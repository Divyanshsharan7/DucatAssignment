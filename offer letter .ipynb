{
 "cells": [
  {
   "cell_type": "code",
   "execution_count": 6,
   "id": "1debbf31-b5bb-4894-8ae9-6839d5bb9fe6",
   "metadata": {},
   "outputs": [
    {
     "name": "stdin",
     "output_type": "stream",
     "text": [
      "name Divyansh\n",
      "position Python\n",
      "salary 15000\n",
      "email divyanshsharan07@gmail.com\n",
      "date of joining 07/09/2004\n"
     ]
    },
    {
     "name": "stdout",
     "output_type": "stream",
     "text": [
      "offer letter is this\n",
      "\n",
      "A/52 Sector  16 Noida UP \n",
      "\n",
      "Dear Divyansh,\n",
      "\n",
      "Subject: Offer of Employment for the position of Python Developer\n",
      "\n",
      "We are delighted to extend this formal offer of employment to you for the position of Python at our organization. Based on your qualifications and the skills you demonstrated during the recruitment process, we are confident that you will be a valuable addition to our team.\n",
      "\n",
      "As discussed, your expected date of joining is 07/09/2004. Your total compensation package will be 15000, which includes all salary components as per the company’s policy. Further details regarding your compensation will be provided in your employment contract.\n",
      "\n",
      "We expect you to bring your best efforts to help the company achieve its goals, and we are committed to supporting your professional growth during your time with us.\n",
      "\n",
      "Please confirm your acceptance of this offer by sending an email to divyanshsharan07@gmail.com at your earliest convenience. Should you have any queries regarding this offer, feel free to reach out to us.\n",
      "\n",
      "We look forward to having you onboard and are excited about the great things we can accomplish together.\n",
      "\n",
      "Sincerely,\n",
      "\n",
      "Sunil Kumar\n",
      "HR Manager\n"
     ]
    }
   ],
   "source": [
    "a=input(\"name\")\n",
    "\n",
    "b=input(\"position\")\n",
    "c=input(\"salary\")\n",
    "d=input(\"email\")\n",
    "e=input(\"date of joining\")\n",
    "print(\"offer letter is this\\n\")\n",
    "print(f\"\"\"A/52 Sector  16 Noida UP \n",
    "\n",
    "Dear {a},\n",
    "\n",
    "Subject: Offer of Employment for the position of Python Developer\n",
    "\n",
    "We are delighted to extend this formal offer of employment to you for the position of {b} at our organization. Based on your qualifications and the skills you demonstrated during the recruitment process, we are confident that you will be a valuable addition to our team.\n",
    "\n",
    "As discussed, your expected date of joining is {e}. Your total compensation package will be {c}, which includes all salary components as per the company’s policy. Further details regarding your compensation will be provided in your employment contract.\n",
    "\n",
    "We expect you to bring your best efforts to help the company achieve its goals, and we are committed to supporting your professional growth during your time with us.\n",
    "\n",
    "Please confirm your acceptance of this offer by sending an email to {d} at your earliest convenience. Should you have any queries regarding this offer, feel free to reach out to us.\n",
    "\n",
    "We look forward to having you onboard and are excited about the great things we can accomplish together.\n",
    "\n",
    "Sincerely,\n",
    "\n",
    "Sunil Kumar\n",
    "HR Manager\"\"\")\n"
   ]
  },
  {
   "cell_type": "code",
   "execution_count": null,
   "id": "ca2744b3-c52e-4091-9de1-84290ef18d6c",
   "metadata": {},
   "outputs": [],
   "source": []
  }
 ],
 "metadata": {
  "kernelspec": {
   "display_name": "Python [conda env:base] *",
   "language": "python",
   "name": "conda-base-py"
  },
  "language_info": {
   "codemirror_mode": {
    "name": "ipython",
    "version": 3
   },
   "file_extension": ".py",
   "mimetype": "text/x-python",
   "name": "python",
   "nbconvert_exporter": "python",
   "pygments_lexer": "ipython3",
   "version": "3.13.5"
  }
 },
 "nbformat": 4,
 "nbformat_minor": 5
}
