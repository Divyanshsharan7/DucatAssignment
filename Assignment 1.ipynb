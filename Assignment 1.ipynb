{
 "cells": [
  {
   "cell_type": "markdown",
   "id": "ae3b6ccf-0d38-4f9e-96ab-e03c21a5e39b",
   "metadata": {},
   "source": [
    "## 1. In the below elements which of them are values or an expression? eg:- values can be\n",
    "integer or string and expressions will be mathematical operators.\n",
    "*\n",
    "&#39;hello&#39;\n",
    "-87.8\n",
    "-\n",
    "/\n",
    "+\n",
    "6"
   ]
  },
  {
   "cell_type": "code",
   "execution_count": 1,
   "id": "4c7d7af0-c04a-4109-b5cb-96682ad19a37",
   "metadata": {},
   "outputs": [
    {
     "name": "stdout",
     "output_type": "stream",
     "text": [
      "<class 'str'>\n"
     ]
    }
   ],
   "source": [
    "x='hello'\n",
    "print(type(x))"
   ]
  },
  {
   "cell_type": "code",
   "execution_count": 2,
   "id": "10e05c92-e32e-4b25-90ed-d88458374e96",
   "metadata": {},
   "outputs": [
    {
     "name": "stdout",
     "output_type": "stream",
     "text": [
      "<class 'float'>\n"
     ]
    }
   ],
   "source": [
    "x=-87.8\n",
    "print(type(x))"
   ]
  },
  {
   "cell_type": "code",
   "execution_count": 3,
   "id": "b5f5ea52-b3f1-4807-ab81-5bfe8d955059",
   "metadata": {},
   "outputs": [
    {
     "name": "stdout",
     "output_type": "stream",
     "text": [
      "<class 'int'>\n"
     ]
    }
   ],
   "source": [
    "x=-5\n",
    "print(type(x))"
   ]
  },
  {
   "cell_type": "code",
   "execution_count": 5,
   "id": "6e37bf75-3bfb-4fac-9460-be8164aa8760",
   "metadata": {},
   "outputs": [
    {
     "name": "stdout",
     "output_type": "stream",
     "text": [
      "<class 'float'>\n"
     ]
    }
   ],
   "source": [
    "x=2/5\n",
    "print(type(x))"
   ]
  },
  {
   "cell_type": "markdown",
   "id": "12e760f8-cb22-41aa-84a4-7cbe31107633",
   "metadata": {},
   "source": [
    "## 2. What is the difference between string and variable?"
   ]
  },
  {
   "cell_type": "code",
   "execution_count": 6,
   "id": "fc40003c-23a9-4d1f-a77e-07d861ab852a",
   "metadata": {},
   "outputs": [],
   "source": [
    "getting_hello= \"hello divyansh\""
   ]
  },
  {
   "cell_type": "code",
   "execution_count": 7,
   "id": "1d03615c-578a-416f-ab94-06e6c13b845c",
   "metadata": {},
   "outputs": [
    {
     "name": "stdout",
     "output_type": "stream",
     "text": [
      "hello divyansh\n"
     ]
    }
   ],
   "source": [
    "print(getting_hello)"
   ]
  },
  {
   "cell_type": "markdown",
   "id": "06486cd5-ccf6-471a-a4ce-70cdc15f61e3",
   "metadata": {},
   "source": [
    "## 3. Describe three different data types."
   ]
  },
  {
   "cell_type": "code",
   "execution_count": 8,
   "id": "6a5432ef-cc30-4c70-b5d3-aada460a02ba",
   "metadata": {},
   "outputs": [
    {
     "name": "stdout",
     "output_type": "stream",
     "text": [
      "<class 'int'>\n"
     ]
    }
   ],
   "source": [
    "num=2233\n",
    "print(type(num))"
   ]
  },
  {
   "cell_type": "code",
   "execution_count": 10,
   "id": "684b2d6e-c822-4807-b539-3cf5049dd310",
   "metadata": {},
   "outputs": [
    {
     "name": "stdout",
     "output_type": "stream",
     "text": [
      "0.4\n"
     ]
    }
   ],
   "source": [
    "num_1=2/5\n",
    "print(num_1)"
   ]
  },
  {
   "cell_type": "code",
   "execution_count": 11,
   "id": "a424a575-71b8-4958-9ce7-9f988a66b072",
   "metadata": {},
   "outputs": [
    {
     "name": "stdout",
     "output_type": "stream",
     "text": [
      "<class 'float'>\n"
     ]
    }
   ],
   "source": [
    "print(type(num_1))"
   ]
  },
  {
   "cell_type": "code",
   "execution_count": 12,
   "id": "83424566-57e7-4c83-a1d2-ec62b9d4536e",
   "metadata": {},
   "outputs": [
    {
     "name": "stdout",
     "output_type": "stream",
     "text": [
      "<class 'str'>\n"
     ]
    }
   ],
   "source": [
    "name=\"hello\"\n",
    "print(type(name))"
   ]
  },
  {
   "cell_type": "markdown",
   "id": "3d697a5b-1f69-4aea-b465-e86ccb5b1146",
   "metadata": {},
   "source": [
    "## 4. What is an expression made up of? What do all expressions do?"
   ]
  },
  {
   "cell_type": "code",
   "execution_count": 13,
   "id": "0a465154-1c29-472e-b72a-87563df1bf14",
   "metadata": {},
   "outputs": [],
   "source": [
    "a=5\n",
    "b=6\n",
    "result=a+b"
   ]
  },
  {
   "cell_type": "code",
   "execution_count": 14,
   "id": "a86c17f6-280e-426b-8e2e-d8c136abb41c",
   "metadata": {},
   "outputs": [
    {
     "name": "stdout",
     "output_type": "stream",
     "text": [
      "11\n"
     ]
    }
   ],
   "source": [
    "print(result)"
   ]
  },
  {
   "cell_type": "code",
   "execution_count": 15,
   "id": "16665dff-3722-48e7-8f2d-30ca8d2d4e97",
   "metadata": {},
   "outputs": [
    {
     "name": "stdout",
     "output_type": "stream",
     "text": [
      "hellodivyansh\n"
     ]
    }
   ],
   "source": [
    "name=\"divyansh\"\n",
    "result=\"hello\"+name\n",
    "print(result)"
   ]
  },
  {
   "cell_type": "markdown",
   "id": "7728bd68-f60a-40e9-bc6d-f627b1af7c20",
   "metadata": {},
   "source": [
    "## 5. This assignment statements, like spam = 10. What is the difference between an expression and a statement?"
   ]
  },
  {
   "cell_type": "code",
   "execution_count": 16,
   "id": "1cee74e5-1973-4090-8e81-61f71b696b7d",
   "metadata": {},
   "outputs": [
    {
     "name": "stdout",
     "output_type": "stream",
     "text": [
      "divyansh\n",
      "5\n"
     ]
    }
   ],
   "source": [
    "name=\"divyansh\" #expression\n",
    "num1=2+3 #expression\n",
    "print(name) #statement\n",
    "print(num1) #statement"
   ]
  },
  {
   "cell_type": "markdown",
   "id": "8ac0a6da-ca23-40aa-806f-65631cd1c75e",
   "metadata": {},
   "source": [
    "## 6. After running the following code, what does the variable bacon contain?\n",
    "bacon = 22\n",
    "bacon + 1"
   ]
  },
  {
   "cell_type": "code",
   "execution_count": 18,
   "id": "944cc130-827a-412f-afe8-fdee352cd39e",
   "metadata": {},
   "outputs": [
    {
     "name": "stdout",
     "output_type": "stream",
     "text": [
      "bacon 23\n"
     ]
    }
   ],
   "source": [
    "bacon=22\n",
    "result=bacon+1\n",
    "print(\"bacon\", result)"
   ]
  },
  {
   "cell_type": "markdown",
   "id": "689ae982-bab5-4222-81a0-e5578f3c37d7",
   "metadata": {},
   "source": [
    "## 7. What should the values of the following two terms be?\n",
    "&#39;spam&#39; + &#39;spamspam&#39;\n",
    "&#39;spam&#39; * 3"
   ]
  },
  {
   "cell_type": "code",
   "execution_count": 19,
   "id": "e5d0c9ea-f9a0-4509-86cb-0d4b3c330b02",
   "metadata": {},
   "outputs": [
    {
     "name": "stdout",
     "output_type": "stream",
     "text": [
      "+ spamspamspam\n",
      "* spamspamspam\n"
     ]
    }
   ],
   "source": [
    "a=\"spam\"\n",
    "b=\"spamspam\"\n",
    "c=3\n",
    "result1=a+b\n",
    "result2=a*c\n",
    "print(\"+\", result1)\n",
    "print(\"*\", result2)"
   ]
  },
  {
   "cell_type": "markdown",
   "id": "c2a98752-80e3-4fe4-a696-40b05ae4cbfe",
   "metadata": {},
   "source": [
    "## 8. Why is eggs a valid variable name while 100 is invalid?"
   ]
  },
  {
   "cell_type": "code",
   "execution_count": 20,
   "id": "466e72db-069f-495a-ac82-519ee2804ff1",
   "metadata": {},
   "outputs": [],
   "source": [
    "# 100 is not an alphabatical value and not starting from _ so 100 is invalid and egg is valid because it starting from alphabatical values"
   ]
  },
  {
   "cell_type": "markdown",
   "id": "9746660b-5720-47c5-9243-830b5464c976",
   "metadata": {},
   "source": [
    "## 9. What three functions can be used to get the integer, floating-point number, or string version of a value?"
   ]
  },
  {
   "cell_type": "code",
   "execution_count": 21,
   "id": "d77ffb91-3901-4f3b-83b9-b6774b5b35f6",
   "metadata": {},
   "outputs": [
    {
     "name": "stdout",
     "output_type": "stream",
     "text": [
      "<class 'float'>\n"
     ]
    }
   ],
   "source": [
    "num=8.5\n",
    "print(type(num))"
   ]
  },
  {
   "cell_type": "code",
   "execution_count": 22,
   "id": "9b15d5a3-4d10-4f62-9e05-1a31915e1700",
   "metadata": {},
   "outputs": [
    {
     "name": "stdout",
     "output_type": "stream",
     "text": [
      "8\n",
      "<class 'int'>\n"
     ]
    }
   ],
   "source": [
    "num=int(8.7)\n",
    "print(num)\n",
    "print(type(num))"
   ]
  },
  {
   "cell_type": "code",
   "execution_count": 24,
   "id": "5cbc2922-a8b2-4ee1-aba3-3c70a183e328",
   "metadata": {},
   "outputs": [
    {
     "name": "stdout",
     "output_type": "stream",
     "text": [
      "8.5\n",
      "<class 'str'>\n"
     ]
    }
   ],
   "source": [
    "num=str(8.5)\n",
    "print(num)\n",
    "print(type(num))"
   ]
  },
  {
   "cell_type": "code",
   "execution_count": 26,
   "id": "9d9b43a5-73f4-4c31-a6fe-10b2cadb295d",
   "metadata": {},
   "outputs": [
    {
     "name": "stdout",
     "output_type": "stream",
     "text": [
      "11.0\n",
      "<class 'float'>\n"
     ]
    }
   ],
   "source": [
    "num=float(11)\n",
    "print(num)\n",
    "print(type(num))"
   ]
  },
  {
   "cell_type": "markdown",
   "id": "6143d05a-1605-4df4-a8f7-0e4cd83384d9",
   "metadata": {},
   "source": [
    "## 10. Why does this expression cause an error? How can you fix it?\n",
    "&#39;I have eaten &#39; + 99 + &#39; burritos.&#39;"
   ]
  },
  {
   "cell_type": "code",
   "execution_count": 28,
   "id": "2087535a-f470-4ec7-aca6-613ac1045ae4",
   "metadata": {},
   "outputs": [
    {
     "name": "stdout",
     "output_type": "stream",
     "text": [
      "I have eaten 99 burritos.\n"
     ]
    }
   ],
   "source": [
    "a='I have eaten ' + str(99) + ' burritos.'\n",
    "print(a)"
   ]
  },
  {
   "cell_type": "code",
   "execution_count": null,
   "id": "67271d47-0b6a-49f1-b8bb-9b07ead8dfdc",
   "metadata": {},
   "outputs": [],
   "source": []
  }
 ],
 "metadata": {
  "kernelspec": {
   "display_name": "Python [conda env:base] *",
   "language": "python",
   "name": "conda-base-py"
  },
  "language_info": {
   "codemirror_mode": {
    "name": "ipython",
    "version": 3
   },
   "file_extension": ".py",
   "mimetype": "text/x-python",
   "name": "python",
   "nbconvert_exporter": "python",
   "pygments_lexer": "ipython3",
   "version": "3.13.5"
  }
 },
 "nbformat": 4,
 "nbformat_minor": 5
}
